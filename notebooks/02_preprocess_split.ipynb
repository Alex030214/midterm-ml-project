{
 "cells": [
  {
   "cell_type": "code",
   "execution_count": 1,
   "id": "9c86930b-fe32-4a67-82cb-f4d32441444e",
   "metadata": {},
   "outputs": [
    {
     "name": "stdout",
     "output_type": "stream",
     "text": [
      "Use cols: ['room_type', 'neighbourhood_cleansed', 'latitude', 'longitude', 'minimum_nights', 'number_of_reviews', 'reviews_per_month', 'availability_365', 'calculated_host_listings_count']\n",
      "Num: 7 Cat: 2\n",
      "Before: (3585, 9)\n",
      "Train/Val/Test: (2151, 9) (717, 9) (717, 9)\n",
      "After (features): (2151, 35) (717, 35) (717, 35)\n",
      "One-Hot sizes: [('room_type', 3), ('neighbourhood_cleansed', 25)]\n"
     ]
    }
   ],
   "source": [
    "import pandas as pd, numpy as np\n",
    "from pathlib import Path\n",
    "from sklearn.model_selection import train_test_split\n",
    "from sklearn.compose import ColumnTransformer\n",
    "from sklearn.preprocessing import OneHotEncoder, StandardScaler\n",
    "from sklearn.impute import SimpleImputer\n",
    "from sklearn.pipeline import Pipeline\n",
    "\n",
    "df = pd.read_csv(Path('..')/'data'/'listings.csv', low_memory=False)\n",
    "\n",
    "def clean_price(s):\n",
    "    return (s.astype(str)\n",
    "             .str.replace(r'[\\$,]', '', regex=True)\n",
    "             .str.replace(r'\\.00$', '', regex=True)\n",
    "             .replace('nan', np.nan)\n",
    "             .astype(float))\n",
    "df['price'] = clean_price(df['price'])\n",
    "\n",
    "target = 'price'\n",
    "use_cols = [c for c in [\n",
    "    'room_type',\n",
    "    'neighbourhood_cleansed',\n",
    "    'latitude','longitude',\n",
    "    'minimum_nights',\n",
    "    'number_of_reviews','reviews_per_month',\n",
    "    'availability_365',\n",
    "    'calculated_host_listings_count'\n",
    "] if c in df.columns]\n",
    "\n",
    "X = df[use_cols].copy()\n",
    "y = df[target].copy()\n",
    "\n",
    "num_cols = X.select_dtypes(include=np.number).columns.tolist()\n",
    "cat_cols = X.select_dtypes(exclude=np.number).columns.tolist()\n",
    "print('Use cols:', use_cols)\n",
    "print('Num:', len(num_cols), 'Cat:', len(cat_cols))\n",
    "\n",
    "X_train, X_temp, y_train, y_temp = train_test_split(X, y, test_size=0.40, random_state=42)\n",
    "X_val, X_test, y_val, y_test = train_test_split(X_temp, y_temp, test_size=0.50, random_state=42)\n",
    "print('Before:', X.shape)\n",
    "print('Train/Val/Test:', X_train.shape, X_val.shape, X_test.shape)\n",
    "\n",
    "num_pipe = Pipeline([\n",
    "    ('imp', SimpleImputer(strategy='median')),\n",
    "    ('scaler', StandardScaler())\n",
    "])\n",
    "cat_pipe = Pipeline([\n",
    "    ('imp', SimpleImputer(strategy='most_frequent')),\n",
    "    ('ohe', OneHotEncoder(handle_unknown='ignore', sparse_output=False))\n",
    "])\n",
    "\n",
    "pre = ColumnTransformer([\n",
    "    ('num', num_pipe, num_cols),\n",
    "    ('cat', cat_pipe, cat_cols)\n",
    "])\n",
    "\n",
    "pipe = Pipeline([('pre', pre)])\n",
    "X_train_t = pipe.fit_transform(X_train)\n",
    "X_val_t   = pipe.transform(X_val)\n",
    "X_test_t  = pipe.transform(X_test)\n",
    "\n",
    "print('After (features):', X_train_t.shape, X_val_t.shape, X_test_t.shape)\n",
    "\n",
    "ohe = pipe.named_steps['pre'].named_transformers_['cat'].named_steps['ohe']\n",
    "print('One-Hot sizes:', list(zip(cat_cols, [len(c) for c in ohe.categories_])))\n"
   ]
  },
  {
   "cell_type": "code",
   "execution_count": null,
   "id": "261d8054-4ee6-4d3c-8e82-4d85e7423700",
   "metadata": {},
   "outputs": [],
   "source": []
  }
 ],
 "metadata": {
  "kernelspec": {
   "display_name": "data1030",
   "language": "python",
   "name": "python3"
  },
  "language_info": {
   "codemirror_mode": {
    "name": "ipython",
    "version": 3
   },
   "file_extension": ".py",
   "mimetype": "text/x-python",
   "name": "python",
   "nbconvert_exporter": "python",
   "pygments_lexer": "ipython3",
   "version": "3.12.10"
  }
 },
 "nbformat": 4,
 "nbformat_minor": 5
}
